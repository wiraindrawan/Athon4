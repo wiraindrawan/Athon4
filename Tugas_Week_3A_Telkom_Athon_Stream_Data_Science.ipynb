{
  "nbformat": 4,
  "nbformat_minor": 0,
  "metadata": {
    "colab": {
      "provenance": [],
      "include_colab_link": true
    },
    "kernelspec": {
      "name": "python3",
      "display_name": "Python 3"
    },
    "language_info": {
      "name": "python"
    }
  },
  "cells": [
    {
      "cell_type": "markdown",
      "metadata": {
        "id": "view-in-github",
        "colab_type": "text"
      },
      "source": [
        "<a href=\"https://colab.research.google.com/github/wiraindrawan/Telkom-Athon-4/blob/main/Tugas_Week_3A_Telkom_Athon_Stream_Data_Science.ipynb\" target=\"_parent\"><img src=\"https://colab.research.google.com/assets/colab-badge.svg\" alt=\"Open In Colab\"/></a>"
      ]
    },
    {
      "cell_type": "markdown",
      "source": [
        "# TUGAS WEEK 3A\n",
        "\n",
        "* Penugasan diberikan dan disubmit melalui Eventeer\n",
        "* Download dan kerjakan soal berikut di Google Colab\n",
        "* Setelah selesai mengerjakan, upload **link Google Colab** di tempat yang telah disediakan di Eventeer\n",
        "* Beri nama file seperti berikut: Nama_Lengkap_Tugas_3A.ipynb\n",
        "* Jangan lupa untuk mengatur pengaturan share di pojok kanan atas menjadi **Anyone with the Link Can View**\n",
        "* Deadline pengumpulan hari Senin, 29 Mei 2023 pukul 23.59 WIB"
      ],
      "metadata": {
        "id": "5iVRHrEMNzkW"
      }
    },
    {
      "cell_type": "markdown",
      "source": [
        "1. Koreksi script berikut agar menghasilkan output:\n",
        "![image.png](data:image/png;base64,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)"
      ],
      "metadata": {
        "id": "NgftplOyQBox"
      }
    },
    {
      "cell_type": "code",
      "source": [
        "import numpy as np\n",
        "from numpy import mean\n",
        "nilai = np.array([90,100,100,50,40,30,75,80,90,35])\n",
        "avg = np.mean(nilai)\n",
        "variance= np.var(nilai)\n",
        "print(\"Nilai mean adalah \", avg)\n",
        "print(\"Nilai varians adalah \", variance)"
      ],
      "metadata": {
        "colab": {
          "base_uri": "https://localhost:8080/"
        },
        "id": "2rzayiptjLLb",
        "outputId": "623001b3-72d4-4afc-d713-436344dd8418"
      },
      "execution_count": null,
      "outputs": [
        {
          "output_type": "stream",
          "name": "stdout",
          "text": [
            "Nilai mean adalah  69.0\n",
            "Nilai varians adalah  684.0\n"
          ]
        }
      ]
    },
    {
      "cell_type": "markdown",
      "source": [
        "\n",
        "\n",
        "\n",
        "2. Diberikan sebuah list `a = [1,3,3,4,5,3,7,8,3,3]`. Untuk setiap elemen dalam list kurangi nilainya dengan 1, lalu bagilah hasil penambahan tersebut dengan 3 atau jika dilihat sebagai formula matematika: ($\\frac{x-1}{3}$). Sehingga dihasilkan output sebagai berikut:\n",
        "![image.png](data:image/png;base64,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)\n",
        "\n",
        "   *Note: Kemungkinan akan terdapat perbedaan jumlah angka di belakang koma*"
      ],
      "metadata": {
        "id": "67FDiiquV_-d"
      }
    },
    {
      "cell_type": "code",
      "source": [
        "a = [1, 3, 3, 4, 5, 3, 7, 8, 3, 3]\n",
        "\n",
        "result = [(x - 1) / 3 for x in a]\n",
        "\n",
        "print(result)"
      ],
      "metadata": {
        "colab": {
          "base_uri": "https://localhost:8080/"
        },
        "id": "4lvHIy5vk1rh",
        "outputId": "5b8c316b-48c2-445f-b145-3fd7b544108c"
      },
      "execution_count": null,
      "outputs": [
        {
          "output_type": "stream",
          "name": "stdout",
          "text": [
            "[0.0, 0.6666666666666666, 0.6666666666666666, 1.0, 1.3333333333333333, 0.6666666666666666, 2.0, 2.3333333333333335, 0.6666666666666666, 0.6666666666666666]\n"
          ]
        }
      ]
    },
    {
      "cell_type": "markdown",
      "source": [
        "3. Koreksi code dibawah ini untuk menghasilkan output seluruh dari daftar list.\n",
        "\n",
        "   Hasil Output:\n",
        "\n",
        "   satu\n",
        "\n",
        "   dua\n",
        "\n",
        "   tiga"
      ],
      "metadata": {
        "id": "LaqxLIqGXzzL"
      }
    },
    {
      "cell_type": "code",
      "source": [
        "bilangan = [\"satu\", \"dua\", \"tiga\"]\n",
        "\n",
        "# Code dimulai\n",
        "for bil in bilangan: # ganti xx dengan code yang benar\n",
        "  print(bil)"
      ],
      "metadata": {
        "id": "2a5HHpmIYajo",
        "colab": {
          "base_uri": "https://localhost:8080/"
        },
        "outputId": "d7534af9-e2a0-4f89-d128-4a26b3129428"
      },
      "execution_count": null,
      "outputs": [
        {
          "output_type": "stream",
          "name": "stdout",
          "text": [
            "satu\n",
            "dua\n",
            "tiga\n"
          ]
        }
      ]
    }
  ]
}